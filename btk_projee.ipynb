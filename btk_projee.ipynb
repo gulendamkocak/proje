{
 "cells": [
  {
   "cell_type": "code",
   "execution_count": 1,
   "metadata": {},
   "outputs": [
    {
     "name": "stdout",
     "output_type": "stream",
     "text": [
      "Ad: Ali, Yaş: 20, Öğrenci No: 12345\n",
      "Ad: Ayşe, Yaş: 35, Ders: Matematik\n"
     ]
    }
   ],
   "source": [
    "\n",
    "class Person:\n",
    "    def __init__(self, ad, yas):\n",
    "        self.ad = ad\n",
    "        self.yas = yas\n",
    "\n",
    "    def bilgileri_goster(self):\n",
    "        return f\"Ad: {self.ad}, Yaş: {self.yas}\"\n",
    "\n",
    "\n",
    "class Student(Person):\n",
    "    def __init__(self, ad, yas, ogrenci_no):\n",
    "        super().__init__(ad, yas)\n",
    "        self.ogrenci_no = ogrenci_no\n",
    "\n",
    "    def bilgileri_goster(self):\n",
    "        return f\"Ad: {self.ad}, Yaş: {self.yas}, Öğrenci No: {self.ogrenci_no}\"\n",
    "\n",
    "\n",
    "class Teacher(Person):\n",
    "    def __init__(self, ad, yas, ders):\n",
    "        super().__init__(ad, yas)\n",
    "        self.ders = ders\n",
    "\n",
    "    def bilgileri_goster(self):\n",
    "        return f\"Ad: {self.ad}, Yaş: {self.yas}, Ders: {self.ders}\"\n",
    "\n",
    "\n",
    "ogrenci = Student(\"Ali\", 20, \"12345\")\n",
    "ogretmen = Teacher(\"Ayşe\", 35, \"Matematik\")\n",
    "\n",
    "print(ogrenci.bilgileri_goster())\n",
    "print(ogretmen.bilgileri_goster())"
   ]
  }
 ],
 "metadata": {
  "kernelspec": {
   "display_name": "Python 3",
   "language": "python",
   "name": "python3"
  },
  "language_info": {
   "codemirror_mode": {
    "name": "ipython",
    "version": 3
   },
   "file_extension": ".py",
   "mimetype": "text/x-python",
   "name": "python",
   "nbconvert_exporter": "python",
   "pygments_lexer": "ipython3",
   "version": "3.13.0"
  }
 },
 "nbformat": 4,
 "nbformat_minor": 2
}
